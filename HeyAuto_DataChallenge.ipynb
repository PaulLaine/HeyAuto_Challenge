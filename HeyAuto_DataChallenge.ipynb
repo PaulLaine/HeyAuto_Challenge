{
 "cells": [
  {
   "attachments": {},
   "cell_type": "markdown",
   "id": "210dd980",
   "metadata": {},
   "source": [
    "# HeyAuto_Challenge"
   ]
  },
  {
   "attachments": {},
   "cell_type": "markdown",
   "id": "b4e18701",
   "metadata": {},
   "source": [
    "### Setup config and read data"
   ]
  },
  {
   "cell_type": "code",
   "execution_count": 63,
   "id": "0093fe5a",
   "metadata": {},
   "outputs": [],
   "source": [
    "# Import Libraries\n",
    "import findspark\n",
    "findspark.init()\n",
    "from pyspark.sql import SparkSession\n",
    "import pyspark.sql.functions as F"
   ]
  },
  {
   "cell_type": "code",
   "execution_count": 65,
   "id": "978f4ce8",
   "metadata": {},
   "outputs": [],
   "source": [
    "# Setup the Configuration\n",
    "spark = SparkSession.builder.appName(\"HeyAuto_Challenge\").getOrCreate()"
   ]
  },
  {
   "cell_type": "code",
   "execution_count": 66,
   "id": "77396e46",
   "metadata": {},
   "outputs": [],
   "source": [
    "heyauto_csv = \"data_heyAuto.csv\"\n",
    "\n",
    "heyauto_df = spark.read.format(\"csv\")\\\n",
    "                                .option(\"inferSchema\", \"true\")\\\n",
    "                                .option(\"header\", \"true\")\\\n",
    "                                .load(heyauto_csv)"
   ]
  },
  {
   "cell_type": "code",
   "execution_count": 67,
   "id": "7631aa0b",
   "metadata": {},
   "outputs": [
    {
     "name": "stdout",
     "output_type": "stream",
     "text": [
      "+-----------------+---------+--------+----+------------+---------+\n",
      "|              vin|     make|   model|year|        trim|Condition|\n",
      "+-----------------+---------+--------+----+------------+---------+\n",
      "|2T1FF28P81C438164|    Acura|      TL|1956|       Sport|        U|\n",
      "|1C4NJPFA8ED519678|    Honda|   Civic|2020|       Sport|        U|\n",
      "|YV4960DZ8A2080987|   Toyota|    null|2019|        Base|        U|\n",
      "|3C3CFFAR3DT571989|     Audi|      A4|2022|         300|        N|\n",
      "|5FNYF4H5XFB054084|     Ford|   F-150|2025|        null|        N|\n",
      "|JM1BM1U79E1108676|Chevrolet|     300|2007|        null|        U|\n",
      "|5TDZA23C46S533612|      BMW|      M4|null|        null|        N|\n",
      "|JTEBU5JR8A5024764|  Hyundai|Santa Fe|2011|Trim-Package|        U|\n",
      "|2G4WS52J121278965|     Cart|     200|2021|       Sport|        N|\n",
      "| 5TDZA3EH4BS08656|   Nissan|   Rogue|2022|        null|        N|\n",
      "|2G4WS52J121278966|     null|    null|null|        null|     null|\n",
      "+-----------------+---------+--------+----+------------+---------+\n",
      "\n"
     ]
    }
   ],
   "source": [
    "heyauto_df.show()"
   ]
  },
  {
   "attachments": {},
   "cell_type": "markdown",
   "id": "6168a066",
   "metadata": {},
   "source": [
    "### Condition Transformation U/N -> Used/New"
   ]
  },
  {
   "cell_type": "code",
   "execution_count": 69,
   "id": "0a9620e0",
   "metadata": {},
   "outputs": [],
   "source": [
    "heyauto_transformed_df = heyauto_df.withColumn(\"Condition\", F.when(heyauto_df.Condition == \"U\", \"Used\")\\\n",
    "                                                .when(heyauto_df.Condition == \"N\", \"New\")\\\n",
    "                                                .otherwise(None))"
   ]
  },
  {
   "cell_type": "code",
   "execution_count": 70,
   "id": "00e45a50",
   "metadata": {},
   "outputs": [
    {
     "name": "stdout",
     "output_type": "stream",
     "text": [
      "+-----------------+---------+--------+----+------------+---------+\n",
      "|              vin|     make|   model|year|        trim|Condition|\n",
      "+-----------------+---------+--------+----+------------+---------+\n",
      "|2T1FF28P81C438164|    Acura|      TL|1956|       Sport|     Used|\n",
      "|1C4NJPFA8ED519678|    Honda|   Civic|2020|       Sport|     Used|\n",
      "|YV4960DZ8A2080987|   Toyota|    null|2019|        Base|     Used|\n",
      "|3C3CFFAR3DT571989|     Audi|      A4|2022|         300|      New|\n",
      "|5FNYF4H5XFB054084|     Ford|   F-150|2025|        null|      New|\n",
      "|JM1BM1U79E1108676|Chevrolet|     300|2007|        null|     Used|\n",
      "|5TDZA23C46S533612|      BMW|      M4|null|        null|      New|\n",
      "|JTEBU5JR8A5024764|  Hyundai|Santa Fe|2011|Trim-Package|     Used|\n",
      "|2G4WS52J121278965|     Cart|     200|2021|       Sport|      New|\n",
      "| 5TDZA3EH4BS08656|   Nissan|   Rogue|2022|        null|      New|\n",
      "|2G4WS52J121278966|     null|    null|null|        null|     null|\n",
      "+-----------------+---------+--------+----+------------+---------+\n",
      "\n"
     ]
    }
   ],
   "source": [
    "heyauto_transformed_df.show()"
   ]
  },
  {
   "attachments": {},
   "cell_type": "markdown",
   "id": "3c242a7f",
   "metadata": {},
   "source": [
    "### Validation Process"
   ]
  },
  {
   "cell_type": "code",
   "execution_count": 71,
   "id": "8572d6e4",
   "metadata": {},
   "outputs": [],
   "source": [
    "heyauto_val_df = heyauto_transformed_df.withColumn(\"validationTest\", F.array())"
   ]
  },
  {
   "cell_type": "code",
   "execution_count": 72,
   "id": "81bba8af",
   "metadata": {},
   "outputs": [
    {
     "name": "stdout",
     "output_type": "stream",
     "text": [
      "+-----------------+---------+--------+----+------------+---------+--------------+\n",
      "|              vin|     make|   model|year|        trim|Condition|validationTest|\n",
      "+-----------------+---------+--------+----+------------+---------+--------------+\n",
      "|2T1FF28P81C438164|    Acura|      TL|1956|       Sport|     Used|            []|\n",
      "|1C4NJPFA8ED519678|    Honda|   Civic|2020|       Sport|     Used|            []|\n",
      "|YV4960DZ8A2080987|   Toyota|    null|2019|        Base|     Used|            []|\n",
      "|3C3CFFAR3DT571989|     Audi|      A4|2022|         300|      New|            []|\n",
      "|5FNYF4H5XFB054084|     Ford|   F-150|2025|        null|      New|            []|\n",
      "|JM1BM1U79E1108676|Chevrolet|     300|2007|        null|     Used|            []|\n",
      "|5TDZA23C46S533612|      BMW|      M4|null|        null|      New|            []|\n",
      "|JTEBU5JR8A5024764|  Hyundai|Santa Fe|2011|Trim-Package|     Used|            []|\n",
      "|2G4WS52J121278965|     Cart|     200|2021|       Sport|      New|            []|\n",
      "| 5TDZA3EH4BS08656|   Nissan|   Rogue|2022|        null|      New|            []|\n",
      "|2G4WS52J121278966|     null|    null|null|        null|     null|            []|\n",
      "+-----------------+---------+--------+----+------------+---------+--------------+\n",
      "\n"
     ]
    }
   ],
   "source": [
    "heyauto_val_df.show()"
   ]
  },
  {
   "attachments": {},
   "cell_type": "markdown",
   "id": "710da411",
   "metadata": {},
   "source": [
    "##### Validation (hasMake)"
   ]
  },
  {
   "cell_type": "code",
   "execution_count": 73,
   "id": "1287aca7",
   "metadata": {},
   "outputs": [],
   "source": [
    "heyauto_val1_df = heyauto_val_df.withColumn(\"validationTest\", \n",
    "                                                F.when(F.expr(\"make is NULL\"), F.array_union(F.col(\"validationTest\"), F.array(F.lit(\"hasNotMake\"))))\\\n",
    "                                                .otherwise(F.col(\"validationTest\")))"
   ]
  },
  {
   "cell_type": "code",
   "execution_count": 74,
   "id": "859ee693",
   "metadata": {},
   "outputs": [
    {
     "name": "stdout",
     "output_type": "stream",
     "text": [
      "+-----------------+---------+--------+----+------------+---------+--------------+\n",
      "|vin              |make     |model   |year|trim        |Condition|validationTest|\n",
      "+-----------------+---------+--------+----+------------+---------+--------------+\n",
      "|2T1FF28P81C438164|Acura    |TL      |1956|Sport       |Used     |[]            |\n",
      "|1C4NJPFA8ED519678|Honda    |Civic   |2020|Sport       |Used     |[]            |\n",
      "|YV4960DZ8A2080987|Toyota   |null    |2019|Base        |Used     |[]            |\n",
      "|3C3CFFAR3DT571989|Audi     |A4      |2022|300         |New      |[]            |\n",
      "|5FNYF4H5XFB054084|Ford     |F-150   |2025|null        |New      |[]            |\n",
      "|JM1BM1U79E1108676|Chevrolet|300     |2007|null        |Used     |[]            |\n",
      "|5TDZA23C46S533612|BMW      |M4      |null|null        |New      |[]            |\n",
      "|JTEBU5JR8A5024764|Hyundai  |Santa Fe|2011|Trim-Package|Used     |[]            |\n",
      "|2G4WS52J121278965|Cart     |200     |2021|Sport       |New      |[]            |\n",
      "|5TDZA3EH4BS08656 |Nissan   |Rogue   |2022|null        |New      |[]            |\n",
      "|2G4WS52J121278966|null     |null    |null|null        |null     |[hasNotMake]  |\n",
      "+-----------------+---------+--------+----+------------+---------+--------------+\n",
      "\n"
     ]
    }
   ],
   "source": [
    "heyauto_val1_df.show(truncate=False)"
   ]
  },
  {
   "attachments": {},
   "cell_type": "markdown",
   "id": "d18b9609",
   "metadata": {},
   "source": [
    "##### Validation (hasModel)"
   ]
  },
  {
   "cell_type": "code",
   "execution_count": 75,
   "id": "02c62925",
   "metadata": {},
   "outputs": [],
   "source": [
    "heyauto_val2_df = heyauto_val1_df.withColumn(\"validationTest\", \n",
    "                                                F.when(F.expr(\"model is NULL\"), F.array_union(F.col(\"validationTest\"), F.array(F.lit(\"hasNotModel\"))))\\\n",
    "                                                .otherwise(F.col(\"validationTest\")))"
   ]
  },
  {
   "cell_type": "code",
   "execution_count": 76,
   "id": "39b18877",
   "metadata": {},
   "outputs": [
    {
     "name": "stdout",
     "output_type": "stream",
     "text": [
      "+-----------------+---------+--------+----+------------+---------+-------------------------+\n",
      "|vin              |make     |model   |year|trim        |Condition|validationTest           |\n",
      "+-----------------+---------+--------+----+------------+---------+-------------------------+\n",
      "|2T1FF28P81C438164|Acura    |TL      |1956|Sport       |Used     |[]                       |\n",
      "|1C4NJPFA8ED519678|Honda    |Civic   |2020|Sport       |Used     |[]                       |\n",
      "|YV4960DZ8A2080987|Toyota   |null    |2019|Base        |Used     |[hasNotModel]            |\n",
      "|3C3CFFAR3DT571989|Audi     |A4      |2022|300         |New      |[]                       |\n",
      "|5FNYF4H5XFB054084|Ford     |F-150   |2025|null        |New      |[]                       |\n",
      "|JM1BM1U79E1108676|Chevrolet|300     |2007|null        |Used     |[]                       |\n",
      "|5TDZA23C46S533612|BMW      |M4      |null|null        |New      |[]                       |\n",
      "|JTEBU5JR8A5024764|Hyundai  |Santa Fe|2011|Trim-Package|Used     |[]                       |\n",
      "|2G4WS52J121278965|Cart     |200     |2021|Sport       |New      |[]                       |\n",
      "|5TDZA3EH4BS08656 |Nissan   |Rogue   |2022|null        |New      |[]                       |\n",
      "|2G4WS52J121278966|null     |null    |null|null        |null     |[hasNotMake, hasNotModel]|\n",
      "+-----------------+---------+--------+----+------------+---------+-------------------------+\n",
      "\n"
     ]
    }
   ],
   "source": [
    "heyauto_val2_df.show(truncate=False)"
   ]
  },
  {
   "attachments": {},
   "cell_type": "markdown",
   "id": "02d1dffb",
   "metadata": {},
   "source": [
    "##### Validation (hasYear)"
   ]
  },
  {
   "cell_type": "code",
   "execution_count": 77,
   "id": "3e166b79",
   "metadata": {},
   "outputs": [],
   "source": [
    "heyauto_val3_df = heyauto_val2_df.withColumn(\"validationTest\", \n",
    "                                                F.when(F.expr(\"year is NULL\"), F.array_union(F.col(\"validationTest\"), F.array(F.lit(\"hasNotYear\"))))\\\n",
    "                                                .otherwise(F.col(\"validationTest\")))"
   ]
  },
  {
   "cell_type": "code",
   "execution_count": 78,
   "id": "ecc93078",
   "metadata": {},
   "outputs": [
    {
     "name": "stdout",
     "output_type": "stream",
     "text": [
      "+-----------------+---------+--------+----+------------+---------+-------------------------------------+\n",
      "|vin              |make     |model   |year|trim        |Condition|validationTest                       |\n",
      "+-----------------+---------+--------+----+------------+---------+-------------------------------------+\n",
      "|2T1FF28P81C438164|Acura    |TL      |1956|Sport       |Used     |[]                                   |\n",
      "|1C4NJPFA8ED519678|Honda    |Civic   |2020|Sport       |Used     |[]                                   |\n",
      "|YV4960DZ8A2080987|Toyota   |null    |2019|Base        |Used     |[hasNotModel]                        |\n",
      "|3C3CFFAR3DT571989|Audi     |A4      |2022|300         |New      |[]                                   |\n",
      "|5FNYF4H5XFB054084|Ford     |F-150   |2025|null        |New      |[]                                   |\n",
      "|JM1BM1U79E1108676|Chevrolet|300     |2007|null        |Used     |[]                                   |\n",
      "|5TDZA23C46S533612|BMW      |M4      |null|null        |New      |[hasNotYear]                         |\n",
      "|JTEBU5JR8A5024764|Hyundai  |Santa Fe|2011|Trim-Package|Used     |[]                                   |\n",
      "|2G4WS52J121278965|Cart     |200     |2021|Sport       |New      |[]                                   |\n",
      "|5TDZA3EH4BS08656 |Nissan   |Rogue   |2022|null        |New      |[]                                   |\n",
      "|2G4WS52J121278966|null     |null    |null|null        |null     |[hasNotMake, hasNotModel, hasNotYear]|\n",
      "+-----------------+---------+--------+----+------------+---------+-------------------------------------+\n",
      "\n"
     ]
    }
   ],
   "source": [
    "heyauto_val3_df.show(truncate=False)"
   ]
  },
  {
   "attachments": {},
   "cell_type": "markdown",
   "id": "6924072d",
   "metadata": {},
   "source": [
    "##### Validation (hasCondition)"
   ]
  },
  {
   "cell_type": "code",
   "execution_count": 79,
   "id": "0569fcb1",
   "metadata": {},
   "outputs": [],
   "source": [
    "heyauto_val4_df = heyauto_val3_df.withColumn(\"validationTest\", \n",
    "                                                F.when(F.expr(\"Condition is NULL\"), F.array_union(F.col(\"validationTest\"), F.array(F.lit(\"hasNotCondition\"))))\\\n",
    "                                                .otherwise(F.col(\"validationTest\")))"
   ]
  },
  {
   "cell_type": "code",
   "execution_count": 80,
   "id": "9772bcad",
   "metadata": {},
   "outputs": [
    {
     "name": "stdout",
     "output_type": "stream",
     "text": [
      "+-----------------+---------+--------+----+------------+---------+------------------------------------------------------+\n",
      "|vin              |make     |model   |year|trim        |Condition|validationTest                                        |\n",
      "+-----------------+---------+--------+----+------------+---------+------------------------------------------------------+\n",
      "|2T1FF28P81C438164|Acura    |TL      |1956|Sport       |Used     |[]                                                    |\n",
      "|1C4NJPFA8ED519678|Honda    |Civic   |2020|Sport       |Used     |[]                                                    |\n",
      "|YV4960DZ8A2080987|Toyota   |null    |2019|Base        |Used     |[hasNotModel]                                         |\n",
      "|3C3CFFAR3DT571989|Audi     |A4      |2022|300         |New      |[]                                                    |\n",
      "|5FNYF4H5XFB054084|Ford     |F-150   |2025|null        |New      |[]                                                    |\n",
      "|JM1BM1U79E1108676|Chevrolet|300     |2007|null        |Used     |[]                                                    |\n",
      "|5TDZA23C46S533612|BMW      |M4      |null|null        |New      |[hasNotYear]                                          |\n",
      "|JTEBU5JR8A5024764|Hyundai  |Santa Fe|2011|Trim-Package|Used     |[]                                                    |\n",
      "|2G4WS52J121278965|Cart     |200     |2021|Sport       |New      |[]                                                    |\n",
      "|5TDZA3EH4BS08656 |Nissan   |Rogue   |2022|null        |New      |[]                                                    |\n",
      "|2G4WS52J121278966|null     |null    |null|null        |null     |[hasNotMake, hasNotModel, hasNotYear, hasNotCondition]|\n",
      "+-----------------+---------+--------+----+------------+---------+------------------------------------------------------+\n",
      "\n"
     ]
    }
   ],
   "source": [
    "heyauto_val4_df.show(truncate=False)"
   ]
  },
  {
   "attachments": {},
   "cell_type": "markdown",
   "id": "6c70b900",
   "metadata": {},
   "source": [
    "##### Validation (validVin)"
   ]
  },
  {
   "cell_type": "code",
   "execution_count": 81,
   "id": "42c0ca9d",
   "metadata": {},
   "outputs": [],
   "source": [
    "heyauto_val5_df = heyauto_val4_df.withColumn(\"validationTest\", \n",
    "                                                F.when(F.length(\"vin\") != 17, F.array_union(F.col(\"validationTest\"), F.array(F.lit(\"notValidVin\"))))\\\n",
    "                                                .otherwise(F.col(\"validationTest\")))"
   ]
  },
  {
   "cell_type": "code",
   "execution_count": 82,
   "id": "bf3ac1f5",
   "metadata": {},
   "outputs": [
    {
     "name": "stdout",
     "output_type": "stream",
     "text": [
      "+-----------------+---------+--------+----+------------+---------+------------------------------------------------------+\n",
      "|vin              |make     |model   |year|trim        |Condition|validationTest                                        |\n",
      "+-----------------+---------+--------+----+------------+---------+------------------------------------------------------+\n",
      "|2T1FF28P81C438164|Acura    |TL      |1956|Sport       |Used     |[]                                                    |\n",
      "|1C4NJPFA8ED519678|Honda    |Civic   |2020|Sport       |Used     |[]                                                    |\n",
      "|YV4960DZ8A2080987|Toyota   |null    |2019|Base        |Used     |[hasNotModel]                                         |\n",
      "|3C3CFFAR3DT571989|Audi     |A4      |2022|300         |New      |[]                                                    |\n",
      "|5FNYF4H5XFB054084|Ford     |F-150   |2025|null        |New      |[]                                                    |\n",
      "|JM1BM1U79E1108676|Chevrolet|300     |2007|null        |Used     |[]                                                    |\n",
      "|5TDZA23C46S533612|BMW      |M4      |null|null        |New      |[hasNotYear]                                          |\n",
      "|JTEBU5JR8A5024764|Hyundai  |Santa Fe|2011|Trim-Package|Used     |[]                                                    |\n",
      "|2G4WS52J121278965|Cart     |200     |2021|Sport       |New      |[]                                                    |\n",
      "|5TDZA3EH4BS08656 |Nissan   |Rogue   |2022|null        |New      |[notValidVin]                                         |\n",
      "|2G4WS52J121278966|null     |null    |null|null        |null     |[hasNotMake, hasNotModel, hasNotYear, hasNotCondition]|\n",
      "+-----------------+---------+--------+----+------------+---------+------------------------------------------------------+\n",
      "\n"
     ]
    }
   ],
   "source": [
    "heyauto_val5_df.show(truncate=False)"
   ]
  },
  {
   "attachments": {},
   "cell_type": "markdown",
   "id": "079f4541",
   "metadata": {},
   "source": [
    "##### Validation (validYear)"
   ]
  },
  {
   "cell_type": "code",
   "execution_count": 83,
   "id": "7f9325d1",
   "metadata": {},
   "outputs": [],
   "source": [
    "heyauto_val6_df = heyauto_val5_df.withColumn(\"validationTest\", \n",
    "                                                F.when(F.expr(\"year BETWEEN 1990 AND 2024 OR year is NULL\"), F.array_union(F.col(\"validationTest\"), F.array(F.lit(\"notValidYear\"))))\\\n",
    "                                                .otherwise(F.col(\"validationTest\")))"
   ]
  },
  {
   "cell_type": "code",
   "execution_count": 84,
   "id": "6bc3a75e",
   "metadata": {},
   "outputs": [
    {
     "name": "stdout",
     "output_type": "stream",
     "text": [
      "+-----------------+---------+--------+----+------------+---------+--------------------------------------------------------------------+\n",
      "|vin              |make     |model   |year|trim        |Condition|validationTest                                                      |\n",
      "+-----------------+---------+--------+----+------------+---------+--------------------------------------------------------------------+\n",
      "|2T1FF28P81C438164|Acura    |TL      |1956|Sport       |Used     |[]                                                                  |\n",
      "|1C4NJPFA8ED519678|Honda    |Civic   |2020|Sport       |Used     |[notValidYear]                                                      |\n",
      "|YV4960DZ8A2080987|Toyota   |null    |2019|Base        |Used     |[hasNotModel, notValidYear]                                         |\n",
      "|3C3CFFAR3DT571989|Audi     |A4      |2022|300         |New      |[notValidYear]                                                      |\n",
      "|5FNYF4H5XFB054084|Ford     |F-150   |2025|null        |New      |[]                                                                  |\n",
      "|JM1BM1U79E1108676|Chevrolet|300     |2007|null        |Used     |[notValidYear]                                                      |\n",
      "|5TDZA23C46S533612|BMW      |M4      |null|null        |New      |[hasNotYear, notValidYear]                                          |\n",
      "|JTEBU5JR8A5024764|Hyundai  |Santa Fe|2011|Trim-Package|Used     |[notValidYear]                                                      |\n",
      "|2G4WS52J121278965|Cart     |200     |2021|Sport       |New      |[notValidYear]                                                      |\n",
      "|5TDZA3EH4BS08656 |Nissan   |Rogue   |2022|null        |New      |[notValidVin, notValidYear]                                         |\n",
      "|2G4WS52J121278966|null     |null    |null|null        |null     |[hasNotMake, hasNotModel, hasNotYear, hasNotCondition, notValidYear]|\n",
      "+-----------------+---------+--------+----+------------+---------+--------------------------------------------------------------------+\n",
      "\n"
     ]
    }
   ],
   "source": [
    "heyauto_val6_df.show(truncate=False)"
   ]
  },
  {
   "attachments": {},
   "cell_type": "markdown",
   "id": "f1cc12f4",
   "metadata": {},
   "source": [
    "### Return AcceptedVehicle and RejectedVehicle Table"
   ]
  },
  {
   "cell_type": "code",
   "execution_count": 85,
   "id": "52385789",
   "metadata": {},
   "outputs": [],
   "source": [
    "accepted_auto_df = heyauto_val6_df.select(F.col(\"vin\"))\\\n",
    "                                    .filter(F.size(\"validationTest\") == 0)"
   ]
  },
  {
   "cell_type": "code",
   "execution_count": 86,
   "id": "12733035",
   "metadata": {},
   "outputs": [
    {
     "name": "stdout",
     "output_type": "stream",
     "text": [
      "+-----------------+\n",
      "|vin              |\n",
      "+-----------------+\n",
      "|2T1FF28P81C438164|\n",
      "|5FNYF4H5XFB054084|\n",
      "+-----------------+\n",
      "\n"
     ]
    }
   ],
   "source": [
    "accepted_auto_df.show(truncate=False)"
   ]
  },
  {
   "cell_type": "code",
   "execution_count": 87,
   "id": "f319e57c",
   "metadata": {},
   "outputs": [],
   "source": [
    "rejected_auto_df = heyauto_val6_df.select(F.col(\"vin\"), F.col(\"validationTest\").alias(\"failed\"))\\\n",
    "                                    .filter(F.size(\"validationTest\") != 0)"
   ]
  },
  {
   "cell_type": "code",
   "execution_count": 88,
   "id": "2e7bff92",
   "metadata": {},
   "outputs": [
    {
     "name": "stdout",
     "output_type": "stream",
     "text": [
      "+-----------------+--------------------------------------------------------------------+\n",
      "|vin              |failed                                                              |\n",
      "+-----------------+--------------------------------------------------------------------+\n",
      "|1C4NJPFA8ED519678|[notValidYear]                                                      |\n",
      "|YV4960DZ8A2080987|[hasNotModel, notValidYear]                                         |\n",
      "|3C3CFFAR3DT571989|[notValidYear]                                                      |\n",
      "|JM1BM1U79E1108676|[notValidYear]                                                      |\n",
      "|5TDZA23C46S533612|[hasNotYear, notValidYear]                                          |\n",
      "|JTEBU5JR8A5024764|[notValidYear]                                                      |\n",
      "|2G4WS52J121278965|[notValidYear]                                                      |\n",
      "|5TDZA3EH4BS08656 |[notValidVin, notValidYear]                                         |\n",
      "|2G4WS52J121278966|[hasNotMake, hasNotModel, hasNotYear, hasNotCondition, notValidYear]|\n",
      "+-----------------+--------------------------------------------------------------------+\n",
      "\n"
     ]
    }
   ],
   "source": [
    "rejected_auto_df.show(truncate=False)"
   ]
  }
 ],
 "metadata": {
  "kernelspec": {
   "display_name": "Python 3",
   "language": "python",
   "name": "python3"
  },
  "language_info": {
   "codemirror_mode": {
    "name": "ipython",
    "version": 3
   },
   "file_extension": ".py",
   "mimetype": "text/x-python",
   "name": "python",
   "nbconvert_exporter": "python",
   "pygments_lexer": "ipython3",
   "version": "3.8.8"
  }
 },
 "nbformat": 4,
 "nbformat_minor": 5
}
